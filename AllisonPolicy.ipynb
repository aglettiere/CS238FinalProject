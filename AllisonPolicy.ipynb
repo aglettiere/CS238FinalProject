{
 "cells": [
  {
   "cell_type": "code",
   "execution_count": 36,
   "metadata": {},
   "outputs": [
    {
     "data": {
      "text/plain": [
       "\"/Users/allisonlettiere/Desktop/CS238FinalProject/Project.toml\""
      ]
     },
     "execution_count": 36,
     "metadata": {},
     "output_type": "execute_result"
    }
   ],
   "source": [
    "# activate project environment\n",
    "# include these lines of code in any future scripts/notebooks\n",
    "#---\n",
    "import Pkg\n",
    "if !haskey(Pkg.installed(), \"AA228FinalProject\")\n",
    "    jenv = joinpath(dirname(@__FILE__()), \".\") # this assumes the notebook is in the same dir\n",
    "    # as the Project.toml file, which should be in top level dir of the project. \n",
    "    # Change accordingly if this is not the case.\n",
    "    Pkg.activate(jenv)\n",
    "end\n",
    "#---"
   ]
  },
  {
   "cell_type": "code",
   "execution_count": 37,
   "metadata": {
    "scrolled": true
   },
   "outputs": [],
   "source": [
    "# import necessary packages\n",
    "using AA228FinalProject\n",
    "using POMDPs\n",
    "using POMDPPolicies\n",
    "using POMDPModels\n",
    "using POMDPModelTools\n",
    "using BeliefUpdaters\n",
    "using ParticleFilters\n",
    "using POMDPSimulators\n",
    "using Cairo\n",
    "using Gtk\n",
    "using Random\n",
    "using Printf"
   ]
  },
  {
   "cell_type": "code",
   "execution_count": 38,
   "metadata": {
    "scrolled": true
   },
   "outputs": [
    {
     "data": {
      "text/plain": [
       "RoombaPOMDP{Bumper,Bool}(Bumper(), RoombaMDP{DiscreteRoombaStateSpace,Array{RoombaAct,1}}\n",
       "  v_max: Float64 10.0\n",
       "  om_max: Float64 1.0\n",
       "  dt: Float64 0.5\n",
       "  contact_pen: Float64 -1.0\n",
       "  time_pen: Float64 -0.1\n",
       "  goal_reward: Float64 10.0\n",
       "  stairs_penalty: Float64 -10.0\n",
       "  config: Int64 3\n",
       "  room: AA228FinalProject.Room\n",
       "  sspace: DiscreteRoombaStateSpace\n",
       "  aspace: Array{RoombaAct}((9,))\n",
       "  _amap: Dict{RoombaAct,Int64}\n",
       ")"
      ]
     },
     "execution_count": 38,
     "metadata": {},
     "output_type": "execute_result"
    }
   ],
   "source": [
    "sensor = Bumper()\n",
    "config = 3 # 1,2, or 3\n",
    "\n",
    "num_x_pts = 50\n",
    "num_y_pts = 50\n",
    "num_th_pts = 20\n",
    "sspace = DiscreteRoombaStateSpace(num_x_pts,num_y_pts,num_th_pts)\n",
    "\n",
    "vlist = [0,1,10]\n",
    "omlist = [-1,0,1]\n",
    "aspace = vec(collect(RoombaAct(v, om) for v in vlist, om in omlist))\n",
    "\n",
    "m = RoombaPOMDP(sensor=sensor, mdp=RoombaMDP(config=config, sspace=sspace, aspace=aspace))"
   ]
  },
  {
   "cell_type": "code",
   "execution_count": 39,
   "metadata": {},
   "outputs": [],
   "source": [
    "num_particles = 2000\n",
    "resampler = BumperResampler(num_particles)\n",
    "\n",
    "spf = SimpleParticleFilter(m, resampler)\n",
    "\n",
    "v_noise_coefficient = 2.0\n",
    "om_noise_coefficient = 0.5\n",
    "\n",
    "belief_updater = RoombaParticleFilter(spf, v_noise_coefficient, om_noise_coefficient);"
   ]
  },
  {
   "cell_type": "markdown",
   "metadata": {},
   "source": [
    "## Policy"
   ]
  },
  {
   "cell_type": "markdown",
   "metadata": {},
   "source": [
    "randomized point-based value iteration (Algorithm 6.5 )"
   ]
  },
  {
   "cell_type": "code",
   "execution_count": 44,
   "metadata": {},
   "outputs": [
    {
     "data": {
      "text/plain": [
       "sumNextStateObservation (generic function with 1 method)"
      ]
     },
     "execution_count": 44,
     "metadata": {},
     "output_type": "execute_result"
    }
   ],
   "source": [
    "function sumNextStateObservation(state, action, alphaAO)\n",
    "    sum = 0\n",
    "    e, gr, gwn, sr, swn, next_x, next_y, next_th, next_status, sp = checkCollision(state, action)\n",
    "    \n",
    "    ##0 -- does not hit wall, 1 -- hits goal zone, 2 -- hits stairs, 3 -- hits other wall\n",
    "    observations = [0, 1, 2, 3]\n",
    "    observationFunction = 0\n",
    "    ob = 1\n",
    "    for o in observations\n",
    "        if o == 0\n",
    "            if(!wall_contact(e, s))\n",
    "                observationFunction = 1\n",
    "                ob = 0\n",
    "            end\n",
    "        elseif o == 1\n",
    "            if(contact_wall(gr, gwn, [next_x, next_y]))  \n",
    "                observationFunction = 1\n",
    "            end\n",
    "        elseif o == 2\n",
    "            if(contact_wall(sr, swn, [next_x, next_y]))  \n",
    "                observationFunction = 1\n",
    "            end\n",
    "        else\n",
    "            if(wall_contact(e, s))\n",
    "                observationFunction = 1\n",
    "            end\n",
    "        end\n",
    "\n",
    "        transitionFunction = 1 ##if reachable\n",
    "        sum += observationFunction * transitionFunction * alphaAO[action, ob + 1]\n",
    "    end\n",
    "    return sum\n",
    "end"
   ]
  },
  {
   "cell_type": "code",
   "execution_count": 45,
   "metadata": {},
   "outputs": [
    {
     "data": {
      "text/plain": [
       "checkCollision (generic function with 1 method)"
      ]
     },
     "execution_count": 45,
     "metadata": {},
     "output_type": "execute_result"
    }
   ],
   "source": [
    "function checkCollision(state, action)\n",
    "    e = mdp(m)\n",
    "    v, om = action\n",
    "    v = clamp(v, 0.0, e.v_max)\n",
    "    om = clamp(om, -e.om_max, e.om_max)\n",
    "\n",
    "    # propagate dynamics without wall considerations\n",
    "    x, y, th, _ = s\n",
    "    dt = e.dt\n",
    "\n",
    "    # dynamics assume robot rotates and then translates\n",
    "    next_th = wrap_to_pi(th + om*dt)\n",
    "\n",
    "    # make sure we arent going through a wall\n",
    "    p0 = SVector(x, y)\n",
    "    heading = SVector(cos(next_th), sin(next_th))\n",
    "    des_step = v*dt\n",
    "    next_x, next_y = legal_translate(e.room, p0, heading, des_step)\n",
    "\n",
    "    # Determine whether goal state or stairs have been reached\n",
    "    grn = mdp(m).room.goal_rect\n",
    "    gwn = mdp(m).room.goal_wall\n",
    "    srn = mdp(m).room.stair_rect\n",
    "    swn = mdp(m).room.stair_wall\n",
    "    gr = mdp(m).room.rectangles[grn]\n",
    "    sr = mdp(m).room.rectangles[srn]    \n",
    "    \n",
    "    next_status = 1.0*contact_wall(gr, gwn, [next_x, next_y]) - 1.0*contact_wall(sr, swn, [next_x, next_y])\n",
    "    sp = RoombaState(next_x, next_y, next_th, next_status)\n",
    "    \n",
    "    return e, gr, gwn, sr, swn, next_x, next_y, next_th, next_status, sp\n",
    "end"
   ]
  },
  {
   "cell_type": "code",
   "execution_count": 47,
   "metadata": {},
   "outputs": [
    {
     "data": {
      "text/plain": [
       "backupBelief (generic function with 1 method)"
      ]
     },
     "execution_count": 47,
     "metadata": {},
     "output_type": "execute_result"
    }
   ],
   "source": [
    "function backupBelief(b, gamma)\n",
    "    O = [0, 1]\n",
    "    numberOfStates = len(sspace)\n",
    "    numberOfAction = len(aspace)\n",
    "    alphaAO = ones(numberOfActions, 2)\n",
    "    \n",
    "    for action in aspace\n",
    "        for observation in O\n",
    "            bp = POMDPs.update(belief_updater, b, action, observation)\n",
    "            maxTranspose = 0\n",
    "            for a in gamma\n",
    "                t = a'bp\n",
    "                if (t > maxTranspose)\n",
    "                    maxTranspose = t\n",
    "                    alphaAO[action, observation + 1] = a\n",
    "                end\n",
    "            end\n",
    "        end \n",
    "        \n",
    "        numberOfStates = len(sspace)\n",
    "        numberOfAction = len(aspace)\n",
    "        alpha = ones(numberOfStates, numberOfActions)\n",
    "        \n",
    "        e, gr, gwn, sr, swn, next_x, next_y, next_th, next_status = checkCollision(state, action)\n",
    "        sp = RoombaState(next_x, next_y, next_th, next_status)\n",
    "        \n",
    "        for state in sspace            \n",
    "            alpha[state, action] = POMDPs.reward(state, action, sp) + discountFactor * sumNextStateObservation(state, action, alphaAO)\n",
    "        end\n",
    "    end\n",
    "    newAlpha = 0\n",
    "    maxAlphaTranspose = 0\n",
    "    columns = [alpha[:,i] for i in 1:size(alpha,2)]\n",
    "    for a in columns\n",
    "        aT = a'b\n",
    "        if(aT > maxAlphaTranspose)\n",
    "            maxAlphaTranspose = aT\n",
    "            newAlpha = a\n",
    "        end\n",
    "    end\n",
    "    return newAlpha\n",
    "end     "
   ]
  },
  {
   "cell_type": "code",
   "execution_count": 50,
   "metadata": {},
   "outputs": [
    {
     "data": {
      "text/plain": [
       "RandomizedPointBasedUpdate (generic function with 1 method)"
      ]
     },
     "execution_count": 50,
     "metadata": {},
     "output_type": "execute_result"
    }
   ],
   "source": [
    "function RandomizedPointBasedUpdate(B, gamma)\n",
    "    BP = B\n",
    "    gammaP = []\n",
    "    print(BP)\n",
    "    while !(isempty(BP))\n",
    "        b = rand(BP)\n",
    "        filter!(e->e != b,BP)\n",
    "        alphaVector = backupBelief(b, gamma)\n",
    "        maxU = 0\n",
    "        oldMaxA = 0\n",
    "        for alpha in gamma\n",
    "            t = alpha'b\n",
    "            if t>maxU\n",
    "                maxU = t\n",
    "                oldMaxA = alpha\n",
    "            end\n",
    "        end\n",
    "        oldUtility = oldMaxA'b\n",
    "        newUtility = alphaVector'b\n",
    "        if (newUtility >= oldUtility)\n",
    "            push!(gammaP, alphaVector)\n",
    "        else\n",
    "            push!(gammaP, oldMaxA)\n",
    "        end\n",
    "    end\n",
    "    return gammaP\n",
    "end"
   ]
  },
  {
   "cell_type": "code",
   "execution_count": 51,
   "metadata": {},
   "outputs": [
    {
     "name": "stdout",
     "output_type": "stream",
     "text": [
      "ParticleCollection{RoombaState}"
     ]
    },
    {
     "ename": "MethodError",
     "evalue": "MethodError: no method matching iterate(::Type{ParticleCollection{RoombaState}})\nClosest candidates are:\n  iterate(!Matched::Core.SimpleVector) at essentials.jl:589\n  iterate(!Matched::Core.SimpleVector, !Matched::Any) at essentials.jl:589\n  iterate(!Matched::ExponentialBackOff) at error.jl:171\n  ...",
     "output_type": "error",
     "traceback": [
      "MethodError: no method matching iterate(::Type{ParticleCollection{RoombaState}})\nClosest candidates are:\n  iterate(!Matched::Core.SimpleVector) at essentials.jl:589\n  iterate(!Matched::Core.SimpleVector, !Matched::Any) at essentials.jl:589\n  iterate(!Matched::ExponentialBackOff) at error.jl:171\n  ...",
      "",
      "Stacktrace:",
      " [1] isempty(::Type) at ./essentials.jl:721",
      " [2] RandomizedPointBasedUpdate(::Type, ::Array{Any,1}) at ./In[50]:5",
      " [3] top-level scope at ./In[51]:33"
     ]
    }
   ],
   "source": [
    "discountFactor = 0.9\n",
    "\n",
    "goal_xy = get_goal_xy(m)\n",
    "goal_x, goal_y = goal_xy\n",
    "\n",
    "RW = 5\n",
    "\n",
    "if config == 1\n",
    "    x = 10+RW \n",
    "    y = -RW\n",
    "elseif config== 2\n",
    "    x = -20+RW\n",
    "    y = RW\n",
    "else\n",
    "    x = -20+RW\n",
    "    y = RW\n",
    "end\n",
    "\n",
    "ang_to_goal = atan(goal_y - y, goal_x - x)\n",
    "si = RoombaState(x,y,ang_to_goal,0.)\n",
    "sf = RoombaState(goal_x,goal_y, 1, 0.)\n",
    "action = (5, ang_to_goal)\n",
    "\n",
    "#startingReward = reward(m, si, action, sf)\n",
    "startingReward = 5\n",
    "firstAlphaVector = (1/(1-discountFactor)) * startingReward\n",
    "gamma = []\n",
    "push!(gamma, firstAlphaVector)\n",
    "\n",
    "B = []\n",
    "for i in 100:\n",
    "    b = ParticleCollection{RoombaState}\n",
    "    push!(B, b)\n",
    "    ##change pomdp\n",
    "    resample(up.spf.resample, d, up.spf.rng)\n",
    "\n",
    "for i in 1:10    \n",
    "    gamma = RandomizedPointBasedUpdate(B, gamma)\n",
    "end"
   ]
  },
  {
   "cell_type": "code",
   "execution_count": null,
   "metadata": {},
   "outputs": [],
   "source": [
    "function POMDPs.action(p::ToEnd, B::ParticleCollection{RoombaState})\n",
    "    v = 1\n",
    "    om = 1\n",
    "    return RoombaAct(v, om)\n",
    "end"
   ]
  },
  {
   "cell_type": "markdown",
   "metadata": {},
   "source": [
    "## Create and Run the Environment"
   ]
  },
  {
   "cell_type": "code",
   "execution_count": 25,
   "metadata": {},
   "outputs": [
    {
     "ename": "UndefVarError",
     "evalue": "UndefVarError: ToEnd not defined",
     "output_type": "error",
     "traceback": [
      "UndefVarError: ToEnd not defined",
      "",
      "Stacktrace:",
      " [1] top-level scope at In[25]:3"
     ]
    }
   ],
   "source": [
    "# first seed the environment\n",
    "Random.seed!(2)\n",
    "\n",
    "# reset the policy\n",
    "p = ToEnd(0) # here, the argument sets the time-steps elapsed to 0\n",
    "\n",
    "# run the simulation\n",
    "c = @GtkCanvas()\n",
    "win = GtkWindow(c, \"Roomba Environment\", 600, 600)\n",
    "for (t, step) in enumerate(stepthrough(m, p, belief_updater, max_steps=100))\n",
    "    @guarded draw(c) do widget\n",
    "        \n",
    "        # the following lines render the room, the particles, and the roomba\n",
    "        ctx = getgc(c)\n",
    "        set_source_rgb(ctx,1,1,1)\n",
    "        paint(ctx)\n",
    "        render(ctx, m, step)\n",
    "        \n",
    "        # render some information that can help with debugging\n",
    "        # here, we render the time-step, the state, and the observation\n",
    "        move_to(ctx,300,400)\n",
    "        show_text(ctx, @sprintf(\"t=%d, state=%s, o=%.3f\",t,string(step.s),step.o))\n",
    "    end\n",
    "    show(c)\n",
    "    sleep(0.1) # to slow down the simulation\n",
    "end"
   ]
  },
  {
   "cell_type": "code",
   "execution_count": null,
   "metadata": {},
   "outputs": [],
   "source": []
  }
 ],
 "metadata": {
  "kernelspec": {
   "display_name": "Julia 1.0.1",
   "language": "julia",
   "name": "julia-1.0"
  },
  "language_info": {
   "file_extension": ".jl",
   "mimetype": "application/julia",
   "name": "julia",
   "version": "1.0.1"
  }
 },
 "nbformat": 4,
 "nbformat_minor": 2
}
