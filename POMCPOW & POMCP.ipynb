{
 "cells": [
  {
   "cell_type": "code",
   "execution_count": 1,
   "metadata": {},
   "outputs": [
    {
     "data": {
      "text/plain": [
       "\"C:\\\\Users\\\\Ali\\\\documents\\\\stanford\\\\cs 238\\\\AA228FinalProject\\\\Project.toml\""
      ]
     },
     "execution_count": 1,
     "metadata": {},
     "output_type": "execute_result"
    }
   ],
   "source": [
    "# activate project environment\n",
    "import Pkg\n",
    "if !haskey(Pkg.installed(), \"AA228FinalProject\")\n",
    "    jenv = joinpath(dirname(@__FILE__()), \".\") # this assumes the notebook is in the same dir\n",
    "    # as the Project.toml file, which should be in top level dir of the project. \n",
    "    # Change accordingly if this is not the case.\n",
    "    Pkg.activate(jenv)\n",
    "end"
   ]
  },
  {
   "cell_type": "code",
   "execution_count": 2,
   "metadata": {},
   "outputs": [
    {
     "name": "stderr",
     "output_type": "stream",
     "text": [
      "┌ Info: Precompiling AA228FinalProject [fe2df5ea-4d44-4e5a-a895-9dbc87b19b37]\n",
      "└ @ Base loading.jl:1192\n",
      "┌ Info: Recompiling stale cache file C:\\Users\\Ali\\.julia\\compiled\\v1.0\\POMDPSimulators\\i1HOp.ji for POMDPSimulators [e0d0a172-29c6-5d4e-96d0-f262df5d01fd]\n",
      "└ @ Base loading.jl:1190\n",
      "┌ Info: Recompiling stale cache file C:\\Users\\Ali\\.julia\\compiled\\v1.0\\POMDPModels\\GHWgR.ji for POMDPModels [355abbd5-f08e-5560-ac9e-8b5f2592a0ca]\n",
      "└ @ Base loading.jl:1190\n",
      "WARNING: Method definition GridWorld(Any...) in module POMDPModels at deprecated.jl:29 overwritten at deprecated.jl:53.\n",
      "┌ Info: Loading Cairo backend into Compose.jl\n",
      "└ @ Compose C:\\Users\\Ali\\.julia\\packages\\Compose\\BYWXX\\src\\Compose.jl:161\n",
      "┌ Warning: Package Compose does not have Cairo in its dependencies:\n",
      "│ - If you have Compose checked out for development and have\n",
      "│   added Cairo as a dependency but haven't updated your primary\n",
      "│   environment's manifest file, try `Pkg.resolve()`.\n",
      "│ - Otherwise you may need to report an issue with Compose\n",
      "│ Loading Cairo into Compose from project dependency, future warnings for Compose are suppressed.\n",
      "└ @ nothing nothing:840\n",
      "┌ Info: Recompiling stale cache file C:\\Users\\Ali\\.julia\\compiled\\v1.0\\POMCPOW\\HFpYP.ji for POMCPOW [4c53ee00-974c-466f-8fa5-8dd73959bbab]\n",
      "└ @ Base loading.jl:1190\n"
     ]
    }
   ],
   "source": [
    "# import necessary packages\n",
    "using AA228FinalProject\n",
    "using POMDPs\n",
    "using POMDPPolicies\n",
    "using BeliefUpdaters\n",
    "using ParticleFilters\n",
    "using POMDPSimulators\n",
    "using Cairo\n",
    "using Gtk\n",
    "using Random\n",
    "using Printf\n",
    "using POMDPModels\n",
    "using POMCPOW"
   ]
  },
  {
   "cell_type": "code",
   "execution_count": 6,
   "metadata": {},
   "outputs": [],
   "source": [
    "# generate discrete action space\n",
    "vlist = [0, 5]\n",
    "omlist = [-1, 0, 1]\n",
    "aspace = vec(collect(RoombaAct(v, om) for v in vlist, om in omlist))\n",
    "\n",
    "# generate discrete state space\n",
    "num_y_pts = 50\n",
    "num_x_pts = 50\n",
    "num_th_pts = 20    \n",
    "sspace = DiscreteRoombaStateSpace(num_x_pts, num_y_pts, num_th_pts)\n",
    "\n",
    "# initialize POMDP interface\n",
    "sensor = Bumper()\n",
    "config = 3 # 1, 2, or 3\n",
    "m = RoombaPOMDP(sensor = sensor, mdp = RoombaMDP(config = config, aspace = aspace, sspace = sspace))\n",
    "\n",
    "num_particles = 2000\n",
    "resampler = BumperResampler(num_particles)\n",
    "\n",
    "spf = SimpleParticleFilter(m, resampler)\n",
    "\n",
    "v_noise_coefficient = 1.0\n",
    "om_noise_coefficient = 0.25\n",
    "\n",
    "belief_updater = RoombaParticleFilter(spf, v_noise_coefficient, om_noise_coefficient);"
   ]
  },
  {
   "cell_type": "code",
   "execution_count": 7,
   "metadata": {},
   "outputs": [
    {
     "data": {
      "text/plain": [
       "POMCPOWPlanner{RoombaPOMDP{Bumper,Bool},POMCPOW.POWNodeFilter,MaxUCB,MCTS.RandomActionGenerator{MersenneTwister},BasicPOMCP.SolvedPORollout{RandomPolicy{MersenneTwister,RoombaPOMDP{Bumper,Bool},NothingUpdater},NothingUpdater,MersenneTwister},Int64,Float64,POMCPOWSolver}(POMCPOWSolver\n",
       "  eps: Float64 0.01\n",
       "  max_depth: Int64 9223372036854775807\n",
       "  criterion: MaxUCB\n",
       "  final_criterion: MaxQ MaxQ()\n",
       "  tree_queries: Int64 1000\n",
       "  max_time: Float64 Inf\n",
       "  rng: MersenneTwister\n",
       "  node_sr_belief_updater: POMCPOW.POWNodeFilter POMCPOW.POWNodeFilter()\n",
       "  estimate_value: MCTS.RolloutEstimator\n",
       "  enable_action_pw: Bool true\n",
       "  check_repeat_obs: Bool true\n",
       "  check_repeat_act: Bool true\n",
       "  tree_in_info: Bool false\n",
       "  alpha_observation: Float64 0.5\n",
       "  k_observation: Float64 10.0\n",
       "  alpha_action: Float64 0.5\n",
       "  k_action: Float64 10.0\n",
       "  init_V: Float64 0.0\n",
       "  init_N: Int64 0\n",
       "  next_action: MCTS.RandomActionGenerator{MersenneTwister}\n",
       "  default_action: MCTS.ExceptionRethrow MCTS.ExceptionRethrow()\n",
       ", RoombaPOMDP{Bumper,Bool}(Bumper(), RoombaMDP{DiscreteRoombaStateSpace,Array{RoombaAct,1}}\n",
       "  v_max: Float64 10.0\n",
       "  om_max: Float64 1.0\n",
       "  dt: Float64 0.5\n",
       "  contact_pen: Float64 -1.0\n",
       "  time_pen: Float64 -0.1\n",
       "  goal_reward: Float64 10.0\n",
       "  stairs_penalty: Float64 -10.0\n",
       "  config: Int64 3\n",
       "  sspace: DiscreteRoombaStateSpace\n",
       "  room: AA228FinalProject.Room\n",
       "  aspace: Array{RoombaAct}((6,))\n",
       "  _amap: Dict{RoombaAct,Int64}\n",
       "), POMCPOW.POWNodeFilter(), MaxUCB(20.0), MCTS.RandomActionGenerator{MersenneTwister}(MersenneTwister(UInt32[0x6f87975b, 0x966cdfa4, 0x0539ea62, 0x0bcaf141], Random.DSFMT.DSFMT_state(Int32[1173641487, 1073174319, -1861293799, 1073358507, -1208741483, 1073557464, -2009874015, 1073208600, -962234941, 1073416101  …  550510545, 1073140662, 1702073876, 1072954511, 1890147552, 1600072520, -654447331, 1213604273, 382, 0]), [1.9252, 1.13533, 1.03591, 1.93076, 1.26398, 1.20023, 1.51871, 1.51124, 1.76156, 1.29744  …  1.84196, 1.85084, 1.88616, 1.54293, 1.32144, 1.13871, 1.80046, 1.76727, 1.42669, 1.24916], UInt128[0x00000000000000000000000000000000, 0x00000000000000000000000000000000, 0x00000000000000000000000000000000, 0x00000000000000000000000000000000, 0x00000000000000000000000000000000, 0x00000000000000000000000000000000, 0x00000000000000000000000000000000, 0x00000000000000000000000000000000, 0x00000000000000000000000000000000, 0x00000000000000000000000000000000  …  0x00000000000000000000000000000000, 0x00000000000000000000000000000000, 0x00000000000000000000000000000000, 0x00000000000000000000000000000000, 0x00000000000000000000000000000000, 0x00000000000000000000000000000000, 0x00000000000000000000000000000000, 0x00000000000000000000000000000000, 0x00000000000000000000000000000000, 0x00000000000000000000000000000000], 303, 0)), BasicPOMCP.SolvedPORollout{RandomPolicy{MersenneTwister,RoombaPOMDP{Bumper,Bool},NothingUpdater},NothingUpdater,MersenneTwister}(RandomPolicy{MersenneTwister,RoombaPOMDP{Bumper,Bool},NothingUpdater}(MersenneTwister(UInt32[0x6f87975b, 0x966cdfa4, 0x0539ea62, 0x0bcaf141], Random.DSFMT.DSFMT_state(Int32[1173641487, 1073174319, -1861293799, 1073358507, -1208741483, 1073557464, -2009874015, 1073208600, -962234941, 1073416101  …  550510545, 1073140662, 1702073876, 1072954511, 1890147552, 1600072520, -654447331, 1213604273, 382, 0]), [1.9252, 1.13533, 1.03591, 1.93076, 1.26398, 1.20023, 1.51871, 1.51124, 1.76156, 1.29744  …  1.84196, 1.85084, 1.88616, 1.54293, 1.32144, 1.13871, 1.80046, 1.76727, 1.42669, 1.24916], UInt128[0x00000000000000000000000000000000, 0x00000000000000000000000000000000, 0x00000000000000000000000000000000, 0x00000000000000000000000000000000, 0x00000000000000000000000000000000, 0x00000000000000000000000000000000, 0x00000000000000000000000000000000, 0x00000000000000000000000000000000, 0x00000000000000000000000000000000, 0x00000000000000000000000000000000  …  0x00000000000000000000000000000000, 0x00000000000000000000000000000000, 0x00000000000000000000000000000000, 0x00000000000000000000000000000000, 0x00000000000000000000000000000000, 0x00000000000000000000000000000000, 0x00000000000000000000000000000000, 0x00000000000000000000000000000000, 0x00000000000000000000000000000000, 0x00000000000000000000000000000000], 303, 0), RoombaPOMDP{Bumper,Bool}(Bumper(), RoombaMDP{DiscreteRoombaStateSpace,Array{RoombaAct,1}}\n",
       "  v_max: Float64 10.0\n",
       "  om_max: Float64 1.0\n",
       "  dt: Float64 0.5\n",
       "  contact_pen: Float64 -1.0\n",
       "  time_pen: Float64 -0.1\n",
       "  goal_reward: Float64 10.0\n",
       "  stairs_penalty: Float64 -10.0\n",
       "  config: Int64 3\n",
       "  sspace: DiscreteRoombaStateSpace\n",
       "  room: AA228FinalProject.Room\n",
       "  aspace: Array{RoombaAct}((6,))\n",
       "  _amap: Dict{RoombaAct,Int64}\n",
       "), NothingUpdater()), NothingUpdater(), MersenneTwister(UInt32[0x6f87975b, 0x966cdfa4, 0x0539ea62, 0x0bcaf141], Random.DSFMT.DSFMT_state(Int32[1173641487, 1073174319, -1861293799, 1073358507, -1208741483, 1073557464, -2009874015, 1073208600, -962234941, 1073416101  …  550510545, 1073140662, 1702073876, 1072954511, 1890147552, 1600072520, -654447331, 1213604273, 382, 0]), [1.9252, 1.13533, 1.03591, 1.93076, 1.26398, 1.20023, 1.51871, 1.51124, 1.76156, 1.29744  …  1.84196, 1.85084, 1.88616, 1.54293, 1.32144, 1.13871, 1.80046, 1.76727, 1.42669, 1.24916], UInt128[0x00000000000000000000000000000000, 0x00000000000000000000000000000000, 0x00000000000000000000000000000000, 0x00000000000000000000000000000000, 0x00000000000000000000000000000000, 0x00000000000000000000000000000000, 0x00000000000000000000000000000000, 0x00000000000000000000000000000000, 0x00000000000000000000000000000000, 0x00000000000000000000000000000000  …  0x00000000000000000000000000000000, 0x00000000000000000000000000000000, 0x00000000000000000000000000000000, 0x00000000000000000000000000000000, 0x00000000000000000000000000000000, 0x00000000000000000000000000000000, 0x00000000000000000000000000000000, 0x00000000000000000000000000000000, 0x00000000000000000000000000000000, 0x00000000000000000000000000000000], 303, 0)), 0, 0.0, nothing)"
      ]
     },
     "execution_count": 7,
     "metadata": {},
     "output_type": "execute_result"
    }
   ],
   "source": [
    "# specify POMCPOW solver\n",
    "solver = POMCPOWSolver(criterion = MaxUCB(20.0))\n",
    "planner = solve(solver, m)"
   ]
  },
  {
   "cell_type": "code",
   "execution_count": 76,
   "metadata": {},
   "outputs": [
    {
     "name": "stdout",
     "output_type": "stream",
     "text": [
      "[15.0, 0.0]"
     ]
    },
    {
     "data": {
      "text/plain": [
       "POMCPPlanner{RoombaPOMDP{Bumper,Bool},BasicPOMCP.SolvedFORollout{MyHeuristic,MersenneTwister},MersenneTwister}(POMCPSolver\n",
       "  max_depth: Int64 20\n",
       "  c: Float64 10.0\n",
       "  tree_queries: Int64 1000\n",
       "  max_time: Float64 Inf\n",
       "  tree_in_info: Bool false\n",
       "  default_action: ExceptionRethrow ExceptionRethrow()\n",
       "  rng: MersenneTwister\n",
       "  estimate_value: FORollout\n",
       ", RoombaPOMDP{Bumper,Bool}(Bumper(), RoombaMDP{ContinuousRoombaStateSpace,Array{RoombaAct,1}}\n",
       "  v_max: Float64 10.0\n",
       "  om_max: Float64 1.0\n",
       "  dt: Float64 0.5\n",
       "  contact_pen: Float64 -1.0\n",
       "  time_pen: Float64 -0.1\n",
       "  goal_reward: Float64 10.0\n",
       "  stairs_penalty: Float64 -10.0\n",
       "  config: Int64 3\n",
       "  sspace: ContinuousRoombaStateSpace ContinuousRoombaStateSpace()\n",
       "  room: AA228FinalProject.Room\n",
       "  aspace: Array{RoombaAct}((24,))\n",
       "  _amap: Dict{RoombaAct,Int64}\n",
       "), BasicPOMCP.SolvedFORollout{MyHeuristic,MersenneTwister}(MyHeuristic(), MersenneTwister(UInt32[0x00000002], Random.DSFMT.DSFMT_state(Int32[-455407987, 1073130395, -1496131950, 1073726245, -921510624, 1073089731, -501465938, 1073182742, -1370281708, 1073171162  …  1152852665, 1073375878, -1190354723, 1073584687, -1470346138, 876581054, 1681301384, 319428597, 382, 0]), [1.01165, 1.81315, 1.18275, 1.14543, 1.95667, 1.06931, 1.79895, 1.55747, 1.45755, 1.71557  …  1.14857, 1.45575, 1.61677, 1.56932, 1.62832, 1.8563, 1.3192, 1.4712, 1.65101, 1.85014], UInt128[0x00000000000000000000000000000000, 0x00000000000000000000000000000000, 0x00000000000000000000000000000000, 0x00000000000000000000000000000000, 0x00000000000000000000000000000000, 0x00000000000000000000000000000000, 0x00000000000000000000000000000000, 0x00000000000000000000000000000000, 0x00000000000000000000000000000000, 0x00000000000000000000000000000000  …  0x00000000000000000000000000000000, 0x00000000000000000000000000000000, 0x00000000000000000000000000000000, 0x00000000000000000000000000000000, 0x00000000000000000000000000000000, 0x00000000000000000000000000000000, 0x00000000000000000000000000000000, 0x00000000000000000000000000000000, 0x00000000000000000000000000000000, 0x00000000000000000000000000000000], 359, 0)), MersenneTwister(UInt32[0x00000002], Random.DSFMT.DSFMT_state(Int32[-455407987, 1073130395, -1496131950, 1073726245, -921510624, 1073089731, -501465938, 1073182742, -1370281708, 1073171162  …  1152852665, 1073375878, -1190354723, 1073584687, -1470346138, 876581054, 1681301384, 319428597, 382, 0]), [1.01165, 1.81315, 1.18275, 1.14543, 1.95667, 1.06931, 1.79895, 1.55747, 1.45755, 1.71557  …  1.14857, 1.45575, 1.61677, 1.56932, 1.62832, 1.8563, 1.3192, 1.4712, 1.65101, 1.85014], UInt128[0x00000000000000000000000000000000, 0x00000000000000000000000000000000, 0x00000000000000000000000000000000, 0x00000000000000000000000000000000, 0x00000000000000000000000000000000, 0x00000000000000000000000000000000, 0x00000000000000000000000000000000, 0x00000000000000000000000000000000, 0x00000000000000000000000000000000, 0x00000000000000000000000000000000  …  0x00000000000000000000000000000000, 0x00000000000000000000000000000000, 0x00000000000000000000000000000000, 0x00000000000000000000000000000000, 0x00000000000000000000000000000000, 0x00000000000000000000000000000000, 0x00000000000000000000000000000000, 0x00000000000000000000000000000000, 0x00000000000000000000000000000000, 0x00000000000000000000000000000000], 359, 0), Int64[], nothing)"
      ]
     },
     "execution_count": 76,
     "metadata": {},
     "output_type": "execute_result"
    }
   ],
   "source": [
    "# define the heuristic policy as follows\n",
    "struct MyHeuristic <: Policy\n",
    "    # intentionally empty\n",
    "end\n",
    "\n",
    "# extract goal for heuristic controller\n",
    "goal_x, goal_y = get_goal_xy(m)\n",
    "print(get_goal_xy(m))\n",
    "\n",
    "# define what the policy actually does in POMDPs.action\n",
    "function POMDPs.action(p::MyHeuristic, s::RoombaState) \n",
    "    # compute the difference between our current heading and one that would\n",
    "    # point to the goal\n",
    "    x, y, th = s[1:3]\n",
    "    ang_to_goal = atan(goal_y - y, goal_x - x)\n",
    "    del_angle = wrap_to_pi(ang_to_goal - th)\n",
    "    \n",
    "    \n",
    "    if abs(del_angle) < 0.25\n",
    "        v, om = 5, 0\n",
    "    else\n",
    "        i = 1\n",
    "        while i <= length(omlist) && omlist[i] < del_angle\n",
    "            i += 1\n",
    "        end\n",
    "\n",
    "        if i > length(omlist)\n",
    "            i -= 1\n",
    "        end\n",
    "\n",
    "        v, om = 0, omlist[i]\n",
    "    end\n",
    "    \n",
    "    return RoombaAct(v, om)\n",
    "end\n",
    "\n",
    "p = MyHeuristic()\n",
    "\n",
    "# specify POMCPsolver\n",
    "solver = POMCPSolver(estimate_value = FORollout(p), c = 10)\n",
    "\n",
    "planner = solve(solver, m)"
   ]
  },
  {
   "cell_type": "code",
   "execution_count": 10,
   "metadata": {},
   "outputs": [
    {
     "name": "stdout",
     "output_type": "stream",
     "text": [
      "-2.0301359596821476"
     ]
    }
   ],
   "source": [
    "# simulate our policy and print the reward\n",
    "rollout_sim = RolloutSimulator(max_steps= 50);\n",
    "r_pomcp = simulate(rollout_sim, m, planner, belief_updater);\n",
    "\n",
    "print(r_pomcp)"
   ]
  },
  {
   "cell_type": "code",
   "execution_count": 9,
   "metadata": {},
   "outputs": [
    {
     "name": "stdout",
     "output_type": "stream",
     "text": [
      "1\n",
      "2\n",
      "3\n",
      "4\n",
      "5\n",
      "Mean Total Reward: -9.500, StdErr Total Reward: 3.851"
     ]
    }
   ],
   "source": [
    "# find the Mean Total Reward for our policy\n",
    "using Statistics\n",
    "\n",
    "total_rewards = []\n",
    "\n",
    "for exp = 1:5\n",
    "    println(string(exp))\n",
    "    \n",
    "    Random.seed!(exp)\n",
    "    \n",
    "    # p = ToEnd(0)\n",
    "    #print(step.r for step in stepthrough(m,p,belief_updater, max_steps=100))\n",
    "    traj_rewards = sum([step.r for step in stepthrough(m, planner, belief_updater, max_steps=100)])\n",
    "    \n",
    "    push!(total_rewards, traj_rewards)\n",
    "end\n",
    "\n",
    "@printf(\"Mean Total Reward: %.3f, StdErr Total Reward: %.3f\", mean(total_rewards), std(total_rewards)/sqrt(5))"
   ]
  },
  {
   "cell_type": "code",
   "execution_count": 11,
   "metadata": {},
   "outputs": [
    {
     "data": {
      "text/plain": [
       "5-element Array{Any,1}:\n",
       " -14.0               \n",
       "   1.3000000000000016\n",
       " -14.0               \n",
       "  -2.0999999999999996\n",
       " -18.699999999999996 "
      ]
     },
     "execution_count": 11,
     "metadata": {},
     "output_type": "execute_result"
    }
   ],
   "source": [
    "total_rewards"
   ]
  }
 ],
 "metadata": {
  "kernelspec": {
   "display_name": "Julia 1.0.2",
   "language": "julia",
   "name": "julia-1.0"
  },
  "language_info": {
   "file_extension": ".jl",
   "mimetype": "application/julia",
   "name": "julia",
   "version": "1.0.2"
  }
 },
 "nbformat": 4,
 "nbformat_minor": 1
}
